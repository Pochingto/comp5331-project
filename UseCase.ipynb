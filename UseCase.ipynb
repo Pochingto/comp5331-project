{
  "nbformat": 4,
  "nbformat_minor": 0,
  "metadata": {
    "colab": {
      "name": "UseCase",
      "provenance": [],
      "collapsed_sections": []
    },
    "kernelspec": {
      "name": "python3",
      "display_name": "Python 3"
    },
    "accelerator": "GPU"
  },
  "cells": [
    {
      "cell_type": "code",
      "metadata": {
        "colab": {
          "base_uri": "https://localhost:8080/"
        },
        "id": "8bpwzGl_cHRN",
        "outputId": "d79f91a4-fbd7-455d-e7c4-58705ea00bee"
      },
      "source": [
        "from google.colab import drive\n",
        "drive.mount('/content/drive')"
      ],
      "execution_count": 1,
      "outputs": [
        {
          "output_type": "stream",
          "text": [
            "Mounted at /content/drive\n"
          ],
          "name": "stdout"
        }
      ]
    },
    {
      "cell_type": "code",
      "metadata": {
        "colab": {
          "base_uri": "https://localhost:8080/"
        },
        "id": "_-mnbooSfs8V",
        "outputId": "a05587ba-69e3-415c-f862-b6f200b28209"
      },
      "source": [
        "%cd /content/drive/My Drive/comp5331"
      ],
      "execution_count": 2,
      "outputs": [
        {
          "output_type": "stream",
          "text": [
            "/content/drive/.shortcut-targets-by-id/1OQ0UjZ02TMNHr3_7Y0pZWfl_ufiP_o2h/comp5331\n"
          ],
          "name": "stdout"
        }
      ]
    },
    {
      "cell_type": "code",
      "metadata": {
        "colab": {
          "base_uri": "https://localhost:8080/"
        },
        "id": "It0ERX9YcB10",
        "outputId": "5d24ca07-9b10-4a4f-9917-20f2abb69f37"
      },
      "source": [
        "from data_loader import ImbalanceDataset\n",
        "from model import model, loss\n",
        "import torch\n",
        "import torch.nn as nn\n",
        "from tqdm import tqdm\n",
        "import matplotlib.pyplot as plt\n",
        "from sklearn.decomposition import PCA\n",
        "import numpy as np\n",
        "import pandas as pd\n",
        "!pip install MulticoreTSNE\n",
        "from MulticoreTSNE import MulticoreTSNE as TSNE\n",
        "from  torch.autograd import Variable\n",
        "from torchvision.utils import save_image\n",
        "from model import model, loss\n",
        "import torch.optim as optim\n",
        "from torch.autograd import Variable\n",
        "from torch.utils.data import DataLoader\n",
        "from torch.utils.data import sampler\n",
        "import torchvision.datasets as dset\n",
        "import torchvision.transforms as T\n",
        "import timeit\n",
        "import copy\n",
        "\n",
        "dtype = torch.FloatTensor"
      ],
      "execution_count": 3,
      "outputs": [
        {
          "output_type": "stream",
          "text": [
            "Collecting MulticoreTSNE\n",
            "  Downloading https://files.pythonhosted.org/packages/2d/e8/2afa896fa4eebfa1d0d0ba2673fddac45582ec0f06b2bdda88108ced5425/MulticoreTSNE-0.1.tar.gz\n",
            "Requirement already satisfied: numpy in /usr/local/lib/python3.6/dist-packages (from MulticoreTSNE) (1.18.5)\n",
            "Requirement already satisfied: cffi in /usr/local/lib/python3.6/dist-packages (from MulticoreTSNE) (1.14.3)\n",
            "Requirement already satisfied: pycparser in /usr/local/lib/python3.6/dist-packages (from cffi->MulticoreTSNE) (2.20)\n",
            "Building wheels for collected packages: MulticoreTSNE\n",
            "  Building wheel for MulticoreTSNE (setup.py) ... \u001b[?25l\u001b[?25hdone\n",
            "  Created wheel for MulticoreTSNE: filename=MulticoreTSNE-0.1-cp36-cp36m-linux_x86_64.whl size=68503 sha256=23bf2e9a3bc61fdb0509af67ff07e838114a47811f5ca8a9692e9f6c0b03042e\n",
            "  Stored in directory: /root/.cache/pip/wheels/27/59/53/3b52ee63add3692254c30d687fa4dff4d128d0557861fb028e\n",
            "Successfully built MulticoreTSNE\n",
            "Installing collected packages: MulticoreTSNE\n",
            "Successfully installed MulticoreTSNE-0.1\n"
          ],
          "name": "stdout"
        }
      ]
    },
    {
      "cell_type": "code",
      "metadata": {
        "colab": {
          "base_uri": "https://localhost:8080/"
        },
        "id": "-xBhyuSllswc",
        "outputId": "2859c6f1-5750-4a49-955b-91e7f14b2823"
      },
      "source": [
        "trainset, testset = ImbalanceDataset.get_dataset(\"fminst\")"
      ],
      "execution_count": null,
      "outputs": [
        {
          "output_type": "stream",
          "text": [
            "/usr/local/lib/python3.6/dist-packages/torchvision/datasets/mnist.py:48: UserWarning: train_labels has been renamed targets\n",
            "  warnings.warn(\"train_labels has been renamed targets\")\n",
            "/usr/local/lib/python3.6/dist-packages/torchvision/datasets/mnist.py:58: UserWarning: train_data has been renamed data\n",
            "  warnings.warn(\"train_data has been renamed data\")\n",
            "/usr/local/lib/python3.6/dist-packages/torchvision/datasets/mnist.py:53: UserWarning: test_labels has been renamed targets\n",
            "  warnings.warn(\"test_labels has been renamed targets\")\n",
            "/usr/local/lib/python3.6/dist-packages/torchvision/datasets/mnist.py:63: UserWarning: test_data has been renamed data\n",
            "  warnings.warn(\"test_data has been renamed data\")\n"
          ],
          "name": "stderr"
        }
      ]
    },
    {
      "cell_type": "code",
      "metadata": {
        "id": "1mgfLLoomNnp"
      },
      "source": [
        "train_loader = torch.utils.data.DataLoader(dataset=trainset, batch_size=200,shuffle=True)\n",
        "\n",
        "test_loader = torch.utils.data.DataLoader(dataset=testset, batch_size=200,shuffle=True)"
      ],
      "execution_count": null,
      "outputs": []
    },
    {
      "cell_type": "code",
      "metadata": {
        "id": "u2GyEdXbmLTU"
      },
      "source": [
        "args = {}\n",
        "args['dim_h'] = 40         # factor controlling size of hidden layers\n",
        "args['n_channel'] = 1      # number of channels in the input data (MNIST = 1, greyscale)\n",
        "args['n_z'] = 100           # number of dimensions in latent space. \n",
        "args['n_class'] = 10           # number of classes. \n",
        "args['sigma'] = 1.0        # variance in n_z\n",
        "args['lambda'] = 0.01      # hyper param for weight of discriminator loss\n",
        "args['lr'] = 0.00005        # learning rate for Adam optimizer\n",
        "args['epochs'] = 20       # how many epochs to run for\n",
        "args['batch_size'] = 200   # batch size for SGD\n",
        "args['save'] = True       # save weights at each epoch of training if True\n",
        "args['train'] = True      # train networks if True, else load networks from saved weights\n",
        "args['dataset'] = 'fmnist' # specify which dataset to use\n",
        "args['device'] = torch.device(\"cuda\" if torch.cuda.is_available() else \"cpu\") # use gpu"
      ],
      "execution_count": null,
      "outputs": []
    },
    {
      "cell_type": "code",
      "metadata": {
        "id": "bQAF2W2CmHzW"
      },
      "source": [
        "scdl = model.AE(args = args)\n",
        "scdl = scdl.to(args['device'])"
      ],
      "execution_count": null,
      "outputs": []
    },
    {
      "cell_type": "code",
      "metadata": {
        "id": "8IzQy3Fgmb0k"
      },
      "source": [
        "#Assume normal distribution\n",
        "def sample_z(n_sample=None, dim=None, sigma=None, template=None):\n",
        "  return sigma*Variable(template.data.new(template.size()).normal_())"
      ],
      "execution_count": null,
      "outputs": []
    },
    {
      "cell_type": "code",
      "metadata": {
        "colab": {
          "base_uri": "https://localhost:8080/"
        },
        "id": "rMIiMSdAmpFu",
        "outputId": "d1c85437-5500-4bed-96b4-d1348dfcfb4e"
      },
      "source": [
        "losses = []\n",
        "recon_losses = []\n",
        "mmd_losses = []\n",
        "sv_losses = []\n",
        "\n",
        "lambda_1, lambda_2 = torch.tensor(1), torch.tensor(1)\n",
        "\n",
        "optim = torch.optim.Adam(scdl.parameters(), lr=args['lr'])\n",
        "scheduler = torch.optim.lr_scheduler.StepLR(optim, step_size=5, gamma=0.5)\n",
        "CEL = nn.CrossEntropyLoss()\n",
        "for epoch in range(args['epochs']): \n",
        "  match_sum, sv_sum, recon_sum = 0, 0, 0\n",
        "  for images, labels in tqdm(train_loader):\n",
        "    images = images.to(args['device'])\n",
        "    labels = labels.to(args['device'])\n",
        "\n",
        "    optim.zero_grad()\n",
        "  \n",
        "    x_recon, z_tilde, y_pred = scdl(images)\n",
        "    z = loss.sample_z(template=z_tilde, sigma=args['sigma'])\n",
        "\n",
        "    recon_loss = loss.mse_loss(x_recon, images ,train_loader.batch_size, size_average=False)\n",
        "    mmd_loss = loss.mmd(z_tilde, z, z_var=args['sigma'])\n",
        "    sv_loss = CEL(y_pred, labels)\n",
        "\n",
        "\n",
        "    total_loss = recon_loss +lambda_1 *mmd_loss + lambda_2*sv_loss\n",
        "    match_sum += mmd_loss.item()\n",
        "    sv_sum += sv_loss.item()\n",
        "    recon_sum += recon_loss.item()\n",
        "    \n",
        "    recon_losses.append(recon_loss.item())\n",
        "\n",
        "    mmd_losses.append(mmd_loss.item())\n",
        "    sv_losses.append(sv_loss.item())\n",
        "    losses.append(total_loss.item())\n",
        "    total_loss.backward()\n",
        "    optim.step()\n",
        "  lambda_1 = 0.5 *lambda_1 + 0.25 *(match_sum/recon_sum + match_sum/sv_sum )\n",
        "  lambda_2 = 0.5 *lambda_2 + 0.25 *(sv_sum/recon_sum + sv_sum/match_sum )\n",
        "  print(\"\\n\",lambda_1, lambda_2)"
      ],
      "execution_count": null,
      "outputs": [
        {
          "output_type": "stream",
          "text": [
            "\r  0%|          | 0/45 [00:00<?, ?it/s]/usr/local/lib/python3.6/dist-packages/torch/nn/_reduction.py:44: UserWarning: size_average and reduce args will be deprecated, please use reduction='sum' instead.\n",
            "  warnings.warn(warning.format(ret))\n",
            "100%|██████████| 45/45 [00:02<00:00, 22.46it/s]\n",
            "  7%|▋         | 3/45 [00:00<00:01, 27.20it/s]"
          ],
          "name": "stderr"
        },
        {
          "output_type": "stream",
          "text": [
            "\n",
            " tensor(0.5197) tensor(3.7338)\n"
          ],
          "name": "stdout"
        },
        {
          "output_type": "stream",
          "text": [
            "100%|██████████| 45/45 [00:01<00:00, 26.65it/s]\n",
            "  7%|▋         | 3/45 [00:00<00:01, 26.61it/s]"
          ],
          "name": "stderr"
        },
        {
          "output_type": "stream",
          "text": [
            "\n",
            " tensor(0.2908) tensor(3.9755)\n"
          ],
          "name": "stdout"
        },
        {
          "output_type": "stream",
          "text": [
            "100%|██████████| 45/45 [00:01<00:00, 26.28it/s]\n",
            "  7%|▋         | 3/45 [00:00<00:01, 26.36it/s]"
          ],
          "name": "stderr"
        },
        {
          "output_type": "stream",
          "text": [
            "\n",
            " tensor(0.1884) tensor(3.5118)\n"
          ],
          "name": "stdout"
        },
        {
          "output_type": "stream",
          "text": [
            "100%|██████████| 45/45 [00:01<00:00, 26.11it/s]\n",
            "  7%|▋         | 3/45 [00:00<00:01, 26.38it/s]"
          ],
          "name": "stderr"
        },
        {
          "output_type": "stream",
          "text": [
            "\n",
            " tensor(0.1473) tensor(2.9927)\n"
          ],
          "name": "stdout"
        },
        {
          "output_type": "stream",
          "text": [
            "100%|██████████| 45/45 [00:01<00:00, 26.50it/s]\n",
            "  7%|▋         | 3/45 [00:00<00:01, 26.51it/s]"
          ],
          "name": "stderr"
        },
        {
          "output_type": "stream",
          "text": [
            "\n",
            " tensor(0.1349) tensor(2.5697)\n"
          ],
          "name": "stdout"
        },
        {
          "output_type": "stream",
          "text": [
            "100%|██████████| 45/45 [00:01<00:00, 26.30it/s]\n",
            "  7%|▋         | 3/45 [00:00<00:01, 27.59it/s]"
          ],
          "name": "stderr"
        },
        {
          "output_type": "stream",
          "text": [
            "\n",
            " tensor(0.1351) tensor(2.2578)\n"
          ],
          "name": "stdout"
        },
        {
          "output_type": "stream",
          "text": [
            "100%|██████████| 45/45 [00:01<00:00, 26.67it/s]\n",
            "  7%|▋         | 3/45 [00:00<00:01, 26.58it/s]"
          ],
          "name": "stderr"
        },
        {
          "output_type": "stream",
          "text": [
            "\n",
            " tensor(0.1406) tensor(2.0324)\n"
          ],
          "name": "stdout"
        },
        {
          "output_type": "stream",
          "text": [
            "100%|██████████| 45/45 [00:01<00:00, 26.32it/s]\n",
            "  7%|▋         | 3/45 [00:00<00:01, 26.45it/s]"
          ],
          "name": "stderr"
        },
        {
          "output_type": "stream",
          "text": [
            "\n",
            " tensor(0.1484) tensor(1.8636)\n"
          ],
          "name": "stdout"
        },
        {
          "output_type": "stream",
          "text": [
            "100%|██████████| 45/45 [00:01<00:00, 26.42it/s]\n",
            "  7%|▋         | 3/45 [00:00<00:01, 26.78it/s]"
          ],
          "name": "stderr"
        },
        {
          "output_type": "stream",
          "text": [
            "\n",
            " tensor(0.1570) tensor(1.7320)\n"
          ],
          "name": "stdout"
        },
        {
          "output_type": "stream",
          "text": [
            "100%|██████████| 45/45 [00:01<00:00, 26.33it/s]\n",
            "  7%|▋         | 3/45 [00:00<00:01, 21.47it/s]"
          ],
          "name": "stderr"
        },
        {
          "output_type": "stream",
          "text": [
            "\n",
            " tensor(0.1650) tensor(1.6326)\n"
          ],
          "name": "stdout"
        },
        {
          "output_type": "stream",
          "text": [
            "100%|██████████| 45/45 [00:01<00:00, 25.91it/s]\n",
            "  7%|▋         | 3/45 [00:00<00:01, 26.19it/s]"
          ],
          "name": "stderr"
        },
        {
          "output_type": "stream",
          "text": [
            "\n",
            " tensor(0.1723) tensor(1.5559)\n"
          ],
          "name": "stdout"
        },
        {
          "output_type": "stream",
          "text": [
            "100%|██████████| 45/45 [00:01<00:00, 26.60it/s]\n",
            "  7%|▋         | 3/45 [00:00<00:01, 27.28it/s]"
          ],
          "name": "stderr"
        },
        {
          "output_type": "stream",
          "text": [
            "\n",
            " tensor(0.1795) tensor(1.4901)\n"
          ],
          "name": "stdout"
        },
        {
          "output_type": "stream",
          "text": [
            "100%|██████████| 45/45 [00:01<00:00, 26.46it/s]\n",
            "  7%|▋         | 3/45 [00:00<00:01, 27.31it/s]"
          ],
          "name": "stderr"
        },
        {
          "output_type": "stream",
          "text": [
            "\n",
            " tensor(0.1858) tensor(1.4384)\n"
          ],
          "name": "stdout"
        },
        {
          "output_type": "stream",
          "text": [
            "100%|██████████| 45/45 [00:01<00:00, 26.54it/s]\n",
            "  7%|▋         | 3/45 [00:00<00:01, 27.11it/s]"
          ],
          "name": "stderr"
        },
        {
          "output_type": "stream",
          "text": [
            "\n",
            " tensor(0.1918) tensor(1.3927)\n"
          ],
          "name": "stdout"
        },
        {
          "output_type": "stream",
          "text": [
            "100%|██████████| 45/45 [00:01<00:00, 26.20it/s]\n",
            "  7%|▋         | 3/45 [00:00<00:01, 27.52it/s]"
          ],
          "name": "stderr"
        },
        {
          "output_type": "stream",
          "text": [
            "\n",
            " tensor(0.1972) tensor(1.3546)\n"
          ],
          "name": "stdout"
        },
        {
          "output_type": "stream",
          "text": [
            "100%|██████████| 45/45 [00:01<00:00, 26.50it/s]\n",
            "  7%|▋         | 3/45 [00:00<00:01, 25.47it/s]"
          ],
          "name": "stderr"
        },
        {
          "output_type": "stream",
          "text": [
            "\n",
            " tensor(0.2025) tensor(1.3201)\n"
          ],
          "name": "stdout"
        },
        {
          "output_type": "stream",
          "text": [
            "100%|██████████| 45/45 [00:01<00:00, 26.24it/s]\n",
            "  7%|▋         | 3/45 [00:00<00:01, 25.55it/s]"
          ],
          "name": "stderr"
        },
        {
          "output_type": "stream",
          "text": [
            "\n",
            " tensor(0.2067) tensor(1.2931)\n"
          ],
          "name": "stdout"
        },
        {
          "output_type": "stream",
          "text": [
            "100%|██████████| 45/45 [00:01<00:00, 25.73it/s]\n",
            "  7%|▋         | 3/45 [00:00<00:01, 26.86it/s]"
          ],
          "name": "stderr"
        },
        {
          "output_type": "stream",
          "text": [
            "\n",
            " tensor(0.2109) tensor(1.2683)\n"
          ],
          "name": "stdout"
        },
        {
          "output_type": "stream",
          "text": [
            "100%|██████████| 45/45 [00:01<00:00, 26.16it/s]\n",
            "  7%|▋         | 3/45 [00:00<00:01, 27.01it/s]"
          ],
          "name": "stderr"
        },
        {
          "output_type": "stream",
          "text": [
            "\n",
            " tensor(0.2151) tensor(1.2444)\n"
          ],
          "name": "stdout"
        },
        {
          "output_type": "stream",
          "text": [
            "100%|██████████| 45/45 [00:01<00:00, 26.13it/s]"
          ],
          "name": "stderr"
        },
        {
          "output_type": "stream",
          "text": [
            "\n",
            " tensor(0.2185) tensor(1.2254)\n"
          ],
          "name": "stdout"
        },
        {
          "output_type": "stream",
          "text": [
            "\n"
          ],
          "name": "stderr"
        }
      ]
    },
    {
      "cell_type": "code",
      "metadata": {
        "id": "4WH0s1Rrn5rs"
      },
      "source": [
        "def get_class_distribution(ae, target_class):\n",
        "  z_c = torch.zeros(size=(1, 100))\n",
        "  for i, (images, labels) in enumerate(train_loader):\n",
        "    z = ae.encoder(images)\n",
        "    if i == 0:\n",
        "      z_c = z[labels == target_class]\n",
        "    else:\n",
        "      z_c = torch.cat((z_c, z[labels == target_class]), dim=0)\n",
        "\n",
        "  return z_c.mean(dim=0), z_c.std(dim=0)"
      ],
      "execution_count": null,
      "outputs": []
    },
    {
      "cell_type": "code",
      "metadata": {
        "id": "x7JjQZeSnEK1"
      },
      "source": [
        "def generate_data(netG, name, classes, classes_distribution, latent):\n",
        "  labels = torch.full(size=(1,classes_distribution[0]), fill_value=0)\n",
        "  mean_0, std_0 = get_class_distribution(latent, 0) \n",
        "  fake_0 = mean_0 + torch.normal(0.0, 1.0, size=(100, 1)).squeeze() * std_0\n",
        "  images = netG(fake_0.cuda())\n",
        "\n",
        "  with torch.no_grad():\n",
        "    netG.eval()\n",
        "    for i in classes:\n",
        "      if(i > 0):\n",
        "        mean_0, std_0 = get_class_distribution(latent, i) \n",
        "        fake_0 = mean_0 + torch.normal(0.0, 1.0, size=(100, 1)).squeeze() * std_0\n",
        "        img = netG(fake_0.cuda())\n",
        "        images = torch.cat((images, img),0)\n",
        "        labels = torch.cat((labels, torch.full(size=(1,classes_distribution[i]), fill_value=i)),1)\n",
        "\n",
        "      for j in tqdm(range(classes_distribution[i]-1)):\n",
        "        #mean_0, std_0 = get_class_distribution(scdl, i) \n",
        "        fake_0 = mean_0 + torch.normal(0.0, 1.0, size=(100, 1)).squeeze() * std_0 # sample z of class 0\n",
        "        img = netG(fake_0.cuda())\n",
        "        images = torch.cat((images, img),0)\n",
        "        #plt.imshow(torch.Tensor.cpu(img).view((28, 28)), cmap='gray')\n",
        "        #plt.show()\n",
        "    print(labels[0].shape)\n",
        "    print(images.shape)\n",
        "    dataset = torch.utils.data.TensorDataset(torch.Tensor.cpu(images), labels[0])\n",
        "    # torch.save(dataset, 'FMNIST_balance/'+name)\n",
        "    return dataset"
      ],
      "execution_count": null,
      "outputs": []
    },
    {
      "cell_type": "code",
      "metadata": {
        "id": "RVbDIXXhnrc5"
      },
      "source": [
        "SCDLGAN_G = torch.load('fminst_SCDLGAN_G')\n",
        "scdl.eval()\n",
        "scdl = scdl.to('cpu')"
      ],
      "execution_count": null,
      "outputs": []
    },
    {
      "cell_type": "code",
      "metadata": {
        "id": "gal-3teO9wlC"
      },
      "source": [
        "# Convert original dataset to tensor\n",
        "temp_data = np.empty((0, 784))\n",
        "temp_label = np.empty((0, 1))\n",
        "for i in trainset:\n",
        "  temp_data = np.append(temp_data, i[0])\n",
        "  temp_label = np.append(temp_label, i[1])\n",
        "temp_data_tensor = torch.Tensor(temp_data.reshape(9000,1,28,28))\n",
        "temp_label_tensor = torch.Tensor(temp_label)\n",
        "trainset_tensor = torch.utils.data.TensorDataset(temp_data_tensor, temp_label_tensor)"
      ],
      "execution_count": null,
      "outputs": []
    },
    {
      "cell_type": "code",
      "metadata": {
        "id": "5PWe41Y0enL8"
      },
      "source": [
        "# Load test data\n",
        "test_data = np.empty((0, 784))\n",
        "test_label = np.empty((0, 1))\n",
        "for i in testset:\n",
        "  test_data = np.append(test_data, i[0])\n",
        "  test_label = np.append(test_label, i[1])\n",
        "test_data = test_data.reshape(10000,1,28,28)"
      ],
      "execution_count": null,
      "outputs": []
    },
    {
      "cell_type": "code",
      "metadata": {
        "id": "iSi_hj1br_NW"
      },
      "source": [
        "classes_freq = {}\n",
        "for _, labels in train_loader:\n",
        "  for label in labels: \n",
        "    classes_freq[label.item()] = classes_freq.get(label.item(), 0) + 1"
      ],
      "execution_count": null,
      "outputs": []
    },
    {
      "cell_type": "code",
      "metadata": {
        "id": "v98xVZWbtp8Z"
      },
      "source": [
        "classes = list(range(len(classes_freq)))\n",
        "classes_distribution = list()\n",
        "for i in classes:\n",
        "  classes_distribution.append(4500-classes_freq[i])"
      ],
      "execution_count": null,
      "outputs": []
    },
    {
      "cell_type": "code",
      "metadata": {
        "colab": {
          "base_uri": "https://localhost:8080/"
        },
        "id": "a7vrIJJOnNVI",
        "outputId": "7626d5a3-44bc-4e4c-a3e1-9804108d73ab"
      },
      "source": [
        "name = 'SCDLGAN.pt'\n",
        "generated_dataset = generate_data(SCDLGAN_G, name, classes, classes_distribution, scdl)"
      ],
      "execution_count": null,
      "outputs": [
        {
          "output_type": "stream",
          "text": [
            "100%|██████████| 499/499 [00:00<00:00, 1460.52it/s]\n",
            "100%|██████████| 2499/2499 [00:01<00:00, 1377.03it/s]\n",
            "100%|██████████| 3499/3499 [00:02<00:00, 1316.01it/s]\n",
            "100%|██████████| 3749/3749 [00:03<00:00, 1117.52it/s]\n",
            "100%|██████████| 3999/3999 [00:04<00:00, 955.65it/s]\n",
            "100%|██████████| 4149/4149 [00:04<00:00, 865.23it/s]\n",
            "100%|██████████| 4299/4299 [00:05<00:00, 752.78it/s]\n",
            "100%|██████████| 4399/4399 [00:06<00:00, 696.76it/s]\n",
            "100%|██████████| 4439/4439 [00:07<00:00, 622.98it/s]\n",
            "100%|██████████| 4459/4459 [00:07<00:00, 576.31it/s]\n"
          ],
          "name": "stderr"
        },
        {
          "output_type": "stream",
          "text": [
            "torch.Size([36000])\n",
            "torch.Size([36000, 1, 28, 28])\n"
          ],
          "name": "stdout"
        }
      ]
    },
    {
      "cell_type": "code",
      "metadata": {
        "id": "F62PedQWx0xW"
      },
      "source": [
        "new_dataset = torch.utils.data.ConcatDataset([trainset_tensor, generated_dataset])\n",
        "new_train_loader = torch.utils.data.DataLoader(dataset=new_dataset, batch_size=200,shuffle=True)"
      ],
      "execution_count": null,
      "outputs": []
    },
    {
      "cell_type": "code",
      "metadata": {
        "colab": {
          "base_uri": "https://localhost:8080/"
        },
        "id": "rBSdBdyt5jWL",
        "outputId": "dbb578cb-911c-4494-865e-27645baf8f8e"
      },
      "source": [
        "new_classes_freq = {}\n",
        "for _, labels in new_train_loader:\n",
        "  for label in labels: \n",
        "    new_classes_freq[label.item()] = new_classes_freq.get(label.item(), 0) + 1\n",
        "new_classes_freq"
      ],
      "execution_count": null,
      "outputs": [
        {
          "output_type": "execute_result",
          "data": {
            "text/plain": [
              "{0.0: 4500,\n",
              " 1.0: 4500,\n",
              " 2.0: 4500,\n",
              " 3.0: 4500,\n",
              " 4.0: 4500,\n",
              " 5.0: 4500,\n",
              " 6.0: 4500,\n",
              " 7.0: 4500,\n",
              " 8.0: 4500,\n",
              " 9.0: 4500}"
            ]
          },
          "metadata": {
            "tags": []
          },
          "execution_count": 21
        }
      ]
    },
    {
      "cell_type": "code",
      "metadata": {
        "id": "iszFD5dX1Jlw"
      },
      "source": [
        "classes = list(range(len(classes_freq)))\n",
        "classes_distribution = list()\n",
        "for i in classes:\n",
        "  classes_distribution.append(10000-classes_freq[i])"
      ],
      "execution_count": null,
      "outputs": []
    },
    {
      "cell_type": "code",
      "metadata": {
        "colab": {
          "base_uri": "https://localhost:8080/"
        },
        "id": "lH81ggFA1SDL",
        "outputId": "48b822d0-004f-4d3a-d3d8-31b065248e13"
      },
      "source": [
        "name = 'SCDLGAN_large.pt'\n",
        "generated_dataset_large = generate_data(SCDLGAN_G, name, classes, classes_distribution, scdl)"
      ],
      "execution_count": null,
      "outputs": [
        {
          "output_type": "stream",
          "text": [
            "100%|██████████| 5999/5999 [00:05<00:00, 1156.21it/s]\n",
            "100%|██████████| 7999/7999 [00:08<00:00, 956.64it/s]\n",
            "100%|██████████| 8999/8999 [00:11<00:00, 768.17it/s]\n",
            "100%|██████████| 9249/9249 [00:14<00:00, 624.90it/s]\n",
            "100%|██████████| 9499/9499 [00:18<00:00, 520.26it/s]\n",
            "100%|██████████| 9649/9649 [00:21<00:00, 443.44it/s]\n",
            "100%|██████████| 9799/9799 [00:25<00:00, 384.20it/s]\n",
            "100%|██████████| 9899/9899 [00:28<00:00, 342.87it/s]\n",
            "100%|██████████| 9939/9939 [00:32<00:00, 304.94it/s]\n",
            "100%|██████████| 9959/9959 [00:35<00:00, 276.84it/s]\n"
          ],
          "name": "stderr"
        },
        {
          "output_type": "stream",
          "text": [
            "torch.Size([91000])\n",
            "torch.Size([91000, 1, 28, 28])\n"
          ],
          "name": "stdout"
        }
      ]
    },
    {
      "cell_type": "code",
      "metadata": {
        "id": "XnLei8JsURiq"
      },
      "source": [
        "new_dataset_large = torch.utils.data.ConcatDataset([trainset_tensor, generated_dataset_large])\n",
        "new_train_loader_large = torch.utils.data.DataLoader(dataset=new_dataset_large, batch_size=200,shuffle=True)"
      ],
      "execution_count": null,
      "outputs": []
    },
    {
      "cell_type": "code",
      "metadata": {
        "id": "EjqvEmvvkCFA"
      },
      "source": [
        "classes = list(range(len(classes_freq)))\n",
        "classes_distribution = list()\n",
        "for i in classes:\n",
        "  classes_distribution.append(6000-classes_freq[i])"
      ],
      "execution_count": null,
      "outputs": []
    },
    {
      "cell_type": "code",
      "metadata": {
        "colab": {
          "base_uri": "https://localhost:8080/"
        },
        "id": "zhjVawrukEl1",
        "outputId": "6a03c911-aea3-456e-de9d-44f1603c1464"
      },
      "source": [
        "name = 'SCDLGAN_medium.pt'\n",
        "generated_dataset_medium = generate_data(SCDLGAN_G, name, classes, classes_distribution, scdl)"
      ],
      "execution_count": null,
      "outputs": [
        {
          "output_type": "stream",
          "text": [
            "100%|██████████| 1999/1999 [00:01<00:00, 1250.03it/s]\n",
            "100%|██████████| 3999/3999 [00:03<00:00, 1189.17it/s]\n",
            "100%|██████████| 4999/4999 [00:04<00:00, 1017.66it/s]\n",
            "100%|██████████| 5249/5249 [00:05<00:00, 882.34it/s]\n",
            "100%|██████████| 5499/5499 [00:07<00:00, 772.72it/s]\n",
            "100%|██████████| 5649/5649 [00:08<00:00, 681.25it/s]\n",
            "100%|██████████| 5799/5799 [00:09<00:00, 602.90it/s]\n",
            "100%|██████████| 5899/5899 [00:10<00:00, 540.06it/s]\n",
            "100%|██████████| 5939/5939 [00:12<00:00, 485.11it/s]\n",
            "100%|██████████| 5959/5959 [00:13<00:00, 441.20it/s]\n"
          ],
          "name": "stderr"
        },
        {
          "output_type": "stream",
          "text": [
            "torch.Size([51000])\n",
            "torch.Size([51000, 1, 28, 28])\n"
          ],
          "name": "stdout"
        }
      ]
    },
    {
      "cell_type": "code",
      "metadata": {
        "id": "KFnADNeGkJVy"
      },
      "source": [
        "new_dataset_medium = torch.utils.data.ConcatDataset([trainset_tensor, generated_dataset_medium])\n",
        "new_train_loader_medium = torch.utils.data.DataLoader(dataset=new_dataset_medium, batch_size=200,shuffle=True)"
      ],
      "execution_count": null,
      "outputs": []
    },
    {
      "cell_type": "code",
      "metadata": {
        "id": "XL8A06-wz0KN"
      },
      "source": [
        "def train(model, loss_fn, optimizer, loader, num_epochs = 1):\n",
        "    loss_hist = list()\n",
        "    acc_hist = {'train': [], 'test': []}\n",
        "    for epoch in range(num_epochs):\n",
        "        epoch_loss = list()\n",
        "        correct = 0\n",
        "        print('Starting epoch %d / %d' % (epoch + 1, num_epochs))\n",
        "        model.train()\n",
        "        for t, (x, y) in enumerate(loader):\n",
        "            x_var = Variable(x.type(gpu_dtype))\n",
        "            y_var = Variable(y.type(gpu_dtype).long())\n",
        "            scores = model(x_var)\n",
        "            loss = loss_fn(scores, y_var)\n",
        "            optimizer.zero_grad()\n",
        "            loss.backward()\n",
        "            optimizer.step()\n",
        "            epoch_loss.append(loss.item())\n",
        "            correct += (torch.Tensor.cpu(torch.argmax(scores, axis=1)) == y).float().sum().item()\n",
        "        model.eval()\n",
        "        test_scores = model(torch.from_numpy(test_data).to(args['device'], dtype=torch.float))\n",
        "        test_acc = (torch.Tensor.cpu(torch.argmax(test_scores, axis=1)).numpy() == test_label).mean()\n",
        "        print('loss: ', sum(epoch_loss)/len(epoch_loss), 'train acc: ', round(correct/len(loader.dataset), 3), 'test acc: ', round(test_acc, 3))\n",
        "        loss_hist.append(sum(epoch_loss)/len(epoch_loss))\n",
        "        acc_hist['train'].append(correct/len(loader.dataset))\n",
        "        acc_hist['test'].append(test_acc)\n",
        "    return loss_hist, acc_hist\n",
        "\n",
        "def check_accuracy(model, loader):\n",
        "    if loader.dataset.train:\n",
        "        print('Checking accuracy on validation set')\n",
        "    else:\n",
        "        print('Checking accuracy on test set')   \n",
        "    num_correct = 0\n",
        "    num_samples = 0\n",
        "    model.eval() # Put the model in test mode (the opposite of model.train(), essentially)\n",
        "    for x, y in loader:\n",
        "        x_var = Variable(x.type(gpu_dtype), volatile=True)\n",
        "\n",
        "        scores = model(x_var)\n",
        "        _, preds = scores.data.cpu().max(1)\n",
        "        num_correct += (preds == y).sum()\n",
        "        num_samples += preds.size(0)\n",
        "    acc = float(num_correct) / num_samples\n",
        "    print('Got %d / %d correct (%.2f)' % (num_correct, num_samples, 100 * acc))"
      ],
      "execution_count": null,
      "outputs": []
    },
    {
      "cell_type": "code",
      "metadata": {
        "id": "LlPn0vQU2IAF"
      },
      "source": [
        "def reset(m):\n",
        "    if hasattr(m, 'reset_parameters'):\n",
        "        m.reset_parameters()"
      ],
      "execution_count": null,
      "outputs": []
    },
    {
      "cell_type": "code",
      "metadata": {
        "id": "2Mv_EuTgwQXo"
      },
      "source": [
        "base = nn.Sequential(\n",
        "                    nn.BatchNorm2d(1),\n",
        "                    nn.ReLU(inplace=True),\n",
        "                    nn.Conv2d(1, 64, 3, 1), #26*26*8\n",
        "                     \n",
        "                    nn.BatchNorm2d(64),\n",
        "                    nn.ReLU(inplace=True),\n",
        "                    nn.Conv2d(64, 32, 3, 1), #26*26*8\n",
        "                     \n",
        "                    nn.MaxPool2d(2, 2), #13*13*8\n",
        "                     \n",
        "                    nn.Flatten(),\n",
        "                    nn.Linear(4608, 1024),\n",
        "                    nn.ReLU(inplace=True),\n",
        "                    nn.Linear(1024, 128),\n",
        "                    nn.ReLU(inplace=True),\n",
        "                    nn.Linear(128, 10)\n",
        "            )"
      ],
      "execution_count": null,
      "outputs": []
    },
    {
      "cell_type": "code",
      "metadata": {
        "colab": {
          "base_uri": "https://localhost:8080/"
        },
        "id": "VI0LcvuyxpSs",
        "outputId": "37be45ef-025c-452f-9ae4-3f65f2dd67d3"
      },
      "source": [
        "print(base)\n",
        "print('# parameters', sum(p.numel() for p in base.parameters()))"
      ],
      "execution_count": null,
      "outputs": [
        {
          "output_type": "stream",
          "text": [
            "Sequential(\n",
            "  (0): BatchNorm2d(1, eps=1e-05, momentum=0.1, affine=True, track_running_stats=True)\n",
            "  (1): ReLU(inplace=True)\n",
            "  (2): Conv2d(1, 64, kernel_size=(3, 3), stride=(1, 1))\n",
            "  (3): BatchNorm2d(64, eps=1e-05, momentum=0.1, affine=True, track_running_stats=True)\n",
            "  (4): ReLU(inplace=True)\n",
            "  (5): Conv2d(64, 32, kernel_size=(3, 3), stride=(1, 1))\n",
            "  (6): MaxPool2d(kernel_size=2, stride=2, padding=0, dilation=1, ceil_mode=False)\n",
            "  (7): Flatten(start_dim=1, end_dim=-1)\n",
            "  (8): Linear(in_features=4608, out_features=1024, bias=True)\n",
            "  (9): ReLU(inplace=True)\n",
            "  (10): Linear(in_features=1024, out_features=128, bias=True)\n",
            "  (11): ReLU(inplace=True)\n",
            "  (12): Linear(in_features=128, out_features=10, bias=True)\n",
            ")\n",
            "# parameters 4871340\n"
          ],
          "name": "stdout"
        }
      ]
    },
    {
      "cell_type": "code",
      "metadata": {
        "id": "4XcIA3pMWLIk"
      },
      "source": [
        "dtype = torch.FloatTensor\n",
        "gpu_dtype = torch.cuda.FloatTensor"
      ],
      "execution_count": null,
      "outputs": []
    },
    {
      "cell_type": "code",
      "metadata": {
        "colab": {
          "base_uri": "https://localhost:8080/"
        },
        "id": "6nOcdg-03Gi6",
        "outputId": "886b80f4-09f9-4d31-e86f-c6df9c860f99"
      },
      "source": [
        "model_normal = copy.deepcopy(base).type(gpu_dtype)\n",
        "\n",
        "loss_fn_normal = nn.CrossEntropyLoss().type(dtype)\n",
        "optimizer_normal = torch.optim.SGD(model_normal.parameters(), 5e-4, 0.9)\n",
        "\n",
        "model_normal.apply(reset)\n",
        "model_normal_loss, model_normal_acc = train(model_normal, loss_fn_normal, optimizer_normal, train_loader, num_epochs=30)\n",
        "check_accuracy(model_normal, test_loader)"
      ],
      "execution_count": null,
      "outputs": [
        {
          "output_type": "stream",
          "text": [
            "Starting epoch 1 / 30\n",
            "loss:  2.0784383508894178 train acc:  0.475 test acc:  0.165\n",
            "Starting epoch 2 / 30\n",
            "loss:  1.481341732872857 train acc:  0.596 test acc:  0.19\n",
            "Starting epoch 3 / 30\n",
            "loss:  1.086960824330648 train acc:  0.673 test acc:  0.242\n",
            "Starting epoch 4 / 30\n",
            "loss:  0.8565125240219964 train acc:  0.709 test acc:  0.288\n",
            "Starting epoch 5 / 30\n",
            "loss:  0.7379915250672234 train acc:  0.747 test acc:  0.37\n",
            "Starting epoch 6 / 30\n",
            "loss:  0.6610990537537469 train acc:  0.787 test acc:  0.42\n",
            "Starting epoch 7 / 30\n",
            "loss:  0.6041761689715915 train acc:  0.81 test acc:  0.445\n",
            "Starting epoch 8 / 30\n",
            "loss:  0.5602277318636576 train acc:  0.821 test acc:  0.462\n",
            "Starting epoch 9 / 30\n",
            "loss:  0.5277874986330668 train acc:  0.828 test acc:  0.472\n",
            "Starting epoch 10 / 30\n",
            "loss:  0.49978606700897216 train acc:  0.838 test acc:  0.477\n",
            "Starting epoch 11 / 30\n",
            "loss:  0.4772413584921095 train acc:  0.841 test acc:  0.494\n",
            "Starting epoch 12 / 30\n",
            "loss:  0.45689286059803436 train acc:  0.848 test acc:  0.506\n",
            "Starting epoch 13 / 30\n",
            "loss:  0.44052866564856635 train acc:  0.855 test acc:  0.528\n",
            "Starting epoch 14 / 30\n",
            "loss:  0.4261716657214695 train acc:  0.859 test acc:  0.551\n",
            "Starting epoch 15 / 30\n",
            "loss:  0.41393844882647196 train acc:  0.865 test acc:  0.569\n",
            "Starting epoch 16 / 30\n",
            "loss:  0.4005454805162218 train acc:  0.872 test acc:  0.59\n",
            "Starting epoch 17 / 30\n",
            "loss:  0.38997665577464635 train acc:  0.875 test acc:  0.615\n",
            "Starting epoch 18 / 30\n",
            "loss:  0.3795712610085805 train acc:  0.878 test acc:  0.641\n",
            "Starting epoch 19 / 30\n",
            "loss:  0.371203390094969 train acc:  0.881 test acc:  0.648\n",
            "Starting epoch 20 / 30\n",
            "loss:  0.365044864681032 train acc:  0.881 test acc:  0.672\n",
            "Starting epoch 21 / 30\n",
            "loss:  0.357628732919693 train acc:  0.886 test acc:  0.686\n",
            "Starting epoch 22 / 30\n",
            "loss:  0.3499791675143772 train acc:  0.887 test acc:  0.687\n",
            "Starting epoch 23 / 30\n",
            "loss:  0.3406949682368173 train acc:  0.891 test acc:  0.696\n",
            "Starting epoch 24 / 30\n",
            "loss:  0.33598975042502083 train acc:  0.893 test acc:  0.693\n",
            "Starting epoch 25 / 30\n",
            "loss:  0.33086728751659394 train acc:  0.895 test acc:  0.701\n",
            "Starting epoch 26 / 30\n",
            "loss:  0.3273906641536289 train acc:  0.897 test acc:  0.715\n",
            "Starting epoch 27 / 30\n",
            "loss:  0.3211477077669568 train acc:  0.898 test acc:  0.718\n",
            "Starting epoch 28 / 30\n",
            "loss:  0.31577019029193454 train acc:  0.899 test acc:  0.712\n",
            "Starting epoch 29 / 30\n",
            "loss:  0.3111198832591375 train acc:  0.901 test acc:  0.721\n",
            "Starting epoch 30 / 30\n",
            "loss:  0.30621142586072286 train acc:  0.903 test acc:  0.73\n",
            "Checking accuracy on test set\n"
          ],
          "name": "stdout"
        },
        {
          "output_type": "stream",
          "text": [
            "/usr/local/lib/python3.6/dist-packages/ipykernel_launcher.py:37: UserWarning: volatile was removed and now has no effect. Use `with torch.no_grad():` instead.\n"
          ],
          "name": "stderr"
        },
        {
          "output_type": "stream",
          "text": [
            "Got 7295 / 10000 correct (72.95)\n"
          ],
          "name": "stdout"
        }
      ]
    },
    {
      "cell_type": "code",
      "metadata": {
        "colab": {
          "base_uri": "https://localhost:8080/",
          "height": 532
        },
        "id": "ExZmD0bqxP7f",
        "outputId": "27d52241-3fbd-48d8-836a-8adc280492c3"
      },
      "source": [
        "fig, (ax1, ax2) = plt.subplots(1, 2, figsize=(16,9))\n",
        "ax1.plot(range(len(model_normal_loss)), model_normal_loss, label = 'model_normal_loss')\n",
        "for phase in ('train', 'test'):\n",
        "    ax2.plot(range(len(model_normal_acc[phase])), model_normal_acc[phase], label=('model_normal_' + phase + '_acc'))"
      ],
      "execution_count": null,
      "outputs": [
        {
          "output_type": "display_data",
          "data": {
            "image/png": "[encoded data removed]",
            "text/plain": [
              "<Figure size 1152x648 with 2 Axes>"
            ]
          },
          "metadata": {
            "tags": [],
            "needs_background": "light"
          }
        }
      ]
    },
    {
      "cell_type": "code",
      "metadata": {
        "colab": {
          "base_uri": "https://localhost:8080/"
        },
        "id": "U-ij13oiV9Y9",
        "outputId": "33980a93-41b4-4f5a-e9ee-0e1f8a4a5e7a"
      },
      "source": [
        "model_gen = copy.deepcopy(base).type(gpu_dtype)\n",
        "\n",
        "loss_fn_gen = nn.CrossEntropyLoss().type(dtype)\n",
        "optimizer_gen = torch.optim.SGD(model_gen.parameters(), 5e-4, 0.9)\n",
        "\n",
        "model_gen.apply(reset)\n",
        "model_gen_loss, model_gen_acc = train(model_gen, loss_fn_gen, optimizer_gen, new_train_loader, num_epochs=30)\n",
        "check_accuracy(model_gen, test_loader)"
      ],
      "execution_count": null,
      "outputs": [
        {
          "output_type": "stream",
          "text": [
            "Starting epoch 1 / 30\n",
            "loss:  2.0865394099553427 train acc:  0.277 test acc:  0.255\n",
            "Starting epoch 2 / 30\n",
            "loss:  1.5349607499440512 train acc:  0.509 test acc:  0.369\n",
            "Starting epoch 3 / 30\n",
            "loss:  1.0133695189158123 train acc:  0.647 test acc:  0.453\n",
            "Starting epoch 4 / 30\n",
            "loss:  0.8137604157129924 train acc:  0.697 test acc:  0.523\n",
            "Starting epoch 5 / 30\n",
            "loss:  0.7251658015780978 train acc:  0.719 test acc:  0.557\n",
            "Starting epoch 6 / 30\n",
            "loss:  0.6727271922429403 train acc:  0.735 test acc:  0.601\n",
            "Starting epoch 7 / 30\n",
            "loss:  0.6363984831174214 train acc:  0.748 test acc:  0.608\n",
            "Starting epoch 8 / 30\n",
            "loss:  0.6099777376651764 train acc:  0.756 test acc:  0.669\n",
            "Starting epoch 9 / 30\n",
            "loss:  0.5853788706991407 train acc:  0.767 test acc:  0.676\n",
            "Starting epoch 10 / 30\n",
            "loss:  0.5678161436981625 train acc:  0.773 test acc:  0.711\n",
            "Starting epoch 11 / 30\n",
            "loss:  0.5503755387994979 train acc:  0.781 test acc:  0.71\n",
            "Starting epoch 12 / 30\n",
            "loss:  0.5357425977124108 train acc:  0.787 test acc:  0.73\n",
            "Starting epoch 13 / 30\n",
            "loss:  0.5246585489643945 train acc:  0.79 test acc:  0.734\n",
            "Starting epoch 14 / 30\n",
            "loss:  0.5111671262317233 train acc:  0.797 test acc:  0.709\n",
            "Starting epoch 15 / 30\n",
            "loss:  0.503061266872618 train acc:  0.799 test acc:  0.727\n",
            "Starting epoch 16 / 30\n",
            "loss:  0.4923856990867191 train acc:  0.803 test acc:  0.745\n",
            "Starting epoch 17 / 30\n",
            "loss:  0.48184593160947164 train acc:  0.808 test acc:  0.764\n",
            "Starting epoch 18 / 30\n",
            "loss:  0.4753128250439962 train acc:  0.811 test acc:  0.731\n",
            "Starting epoch 19 / 30\n",
            "loss:  0.46712937553723655 train acc:  0.813 test acc:  0.764\n",
            "Starting epoch 20 / 30\n",
            "loss:  0.4572012906604343 train acc:  0.818 test acc:  0.748\n",
            "Starting epoch 21 / 30\n",
            "loss:  0.45562647289699976 train acc:  0.819 test acc:  0.745\n",
            "Starting epoch 22 / 30\n",
            "loss:  0.4475825819704268 train acc:  0.821 test acc:  0.763\n",
            "Starting epoch 23 / 30\n",
            "loss:  0.4373509200414022 train acc:  0.827 test acc:  0.763\n",
            "Starting epoch 24 / 30\n",
            "loss:  0.4321408024099138 train acc:  0.826 test acc:  0.769\n",
            "Starting epoch 25 / 30\n",
            "loss:  0.4229951439963447 train acc:  0.832 test acc:  0.782\n",
            "Starting epoch 26 / 30\n",
            "loss:  0.417772366338306 train acc:  0.835 test acc:  0.763\n",
            "Starting epoch 27 / 30\n",
            "loss:  0.4137646574444241 train acc:  0.835 test acc:  0.778\n",
            "Starting epoch 28 / 30\n",
            "loss:  0.4063032344977061 train acc:  0.84 test acc:  0.784\n",
            "Starting epoch 29 / 30\n",
            "loss:  0.4027070274617937 train acc:  0.841 test acc:  0.794\n",
            "Starting epoch 30 / 30\n",
            "loss:  0.40003546741273666 train acc:  0.841 test acc:  0.785\n",
            "Checking accuracy on test set\n"
          ],
          "name": "stdout"
        },
        {
          "output_type": "stream",
          "text": [
            "/usr/local/lib/python3.6/dist-packages/ipykernel_launcher.py:37: UserWarning: volatile was removed and now has no effect. Use `with torch.no_grad():` instead.\n"
          ],
          "name": "stderr"
        },
        {
          "output_type": "stream",
          "text": [
            "Got 7852 / 10000 correct (78.52)\n"
          ],
          "name": "stdout"
        }
      ]
    },
    {
      "cell_type": "code",
      "metadata": {
        "colab": {
          "base_uri": "https://localhost:8080/",
          "height": 532
        },
        "id": "RFboPxAjx28R",
        "outputId": "2d306084-61ba-40f3-c996-d3b0db45075a"
      },
      "source": [
        "fig, (ax1, ax2) = plt.subplots(1, 2, figsize=(16,9))\n",
        "ax1.plot(range(len(model_gen_loss)), model_gen_loss, label = 'model_gen_loss')\n",
        "for phase in ('train', 'test'):\n",
        "    ax2.plot(range(len(model_gen_acc[phase])), model_gen_acc[phase], label=('model_gen_' + phase + '_acc'))"
      ],
      "execution_count": null,
      "outputs": [
        {
          "output_type": "display_data",
          "data": {
            "image/png": "[encoded data removed]",
            "text/plain": [
              "<Figure size 1152x648 with 2 Axes>"
            ]
          },
          "metadata": {
            "tags": [],
            "needs_background": "light"
          }
        }
      ]
    },
    {
      "cell_type": "code",
      "metadata": {
        "id": "JagrpMFz15bS",
        "colab": {
          "base_uri": "https://localhost:8080/"
        },
        "outputId": "ef9a0f87-b341-4288-9517-f7078954c492"
      },
      "source": [
        "model_gen_large = copy.deepcopy(base).type(gpu_dtype)\n",
        "\n",
        "loss_fn_gen_large = nn.CrossEntropyLoss().type(dtype)\n",
        "optimizer_gen_large = torch.optim.SGD(model_gen_large.parameters(), 5e-4, 0.9)\n",
        "\n",
        "model_gen_large.apply(reset)\n",
        "model_gen_large_loss, model_gen_large_acc = train(model_gen_large, loss_fn_gen_large, optimizer_gen_large, new_train_loader_large, num_epochs=40)\n",
        "check_accuracy(model_gen_large, test_loader)"
      ],
      "execution_count": null,
      "outputs": [
        {
          "output_type": "stream",
          "text": [
            "Starting epoch 1 / 40\n",
            "loss:  1.4839667201042175 train acc:  0.55 test acc:  0.457\n",
            "Starting epoch 2 / 40\n",
            "loss:  0.5984093448519707 train acc:  0.786 test acc:  0.475\n",
            "Starting epoch 3 / 40\n",
            "loss:  0.4419150498509407 train acc:  0.837 test acc:  0.559\n",
            "Starting epoch 4 / 40\n",
            "loss:  0.37846955436468127 train acc:  0.859 test acc:  0.623\n",
            "Starting epoch 5 / 40\n",
            "loss:  0.33760726016759873 train acc:  0.872 test acc:  0.624\n",
            "Starting epoch 6 / 40\n",
            "loss:  0.3096178093850613 train acc:  0.884 test acc:  0.656\n",
            "Starting epoch 7 / 40\n",
            "loss:  0.2890037049949169 train acc:  0.891 test acc:  0.685\n",
            "Starting epoch 8 / 40\n",
            "loss:  0.270220661342144 train acc:  0.898 test acc:  0.683\n",
            "Starting epoch 9 / 40\n",
            "loss:  0.25616653391718863 train acc:  0.904 test acc:  0.66\n",
            "Starting epoch 10 / 40\n",
            "loss:  0.243383020401001 train acc:  0.909 test acc:  0.709\n",
            "Starting epoch 11 / 40\n",
            "loss:  0.2338134987205267 train acc:  0.912 test acc:  0.704\n",
            "Starting epoch 12 / 40\n",
            "loss:  0.2246533440053463 train acc:  0.915 test acc:  0.729\n",
            "Starting epoch 13 / 40\n",
            "loss:  0.2148937848508358 train acc:  0.92 test acc:  0.733\n",
            "Starting epoch 14 / 40\n",
            "loss:  0.20857126019895078 train acc:  0.922 test acc:  0.72\n",
            "Starting epoch 15 / 40\n",
            "loss:  0.20250963351130485 train acc:  0.924 test acc:  0.714\n",
            "Starting epoch 16 / 40\n",
            "loss:  0.19767199562489987 train acc:  0.926 test acc:  0.744\n",
            "Starting epoch 17 / 40\n",
            "loss:  0.19360409472882747 train acc:  0.927 test acc:  0.742\n",
            "Starting epoch 18 / 40\n",
            "loss:  0.18574931539595127 train acc:  0.931 test acc:  0.734\n",
            "Starting epoch 19 / 40\n",
            "loss:  0.18098336762189865 train acc:  0.932 test acc:  0.737\n",
            "Starting epoch 20 / 40\n",
            "loss:  0.1774819885790348 train acc:  0.934 test acc:  0.728\n",
            "Starting epoch 21 / 40\n",
            "loss:  0.17253955560922624 train acc:  0.936 test acc:  0.736\n",
            "Starting epoch 22 / 40\n",
            "loss:  0.17168263970315456 train acc:  0.936 test acc:  0.743\n",
            "Starting epoch 23 / 40\n",
            "loss:  0.16674825839698315 train acc:  0.937 test acc:  0.714\n",
            "Starting epoch 24 / 40\n",
            "loss:  0.1627613384053111 train acc:  0.939 test acc:  0.717\n",
            "Starting epoch 25 / 40\n",
            "loss:  0.16080294054746627 train acc:  0.94 test acc:  0.766\n",
            "Starting epoch 26 / 40\n",
            "loss:  0.15667654347419738 train acc:  0.941 test acc:  0.717\n",
            "Starting epoch 27 / 40\n",
            "loss:  0.1528238499686122 train acc:  0.943 test acc:  0.756\n",
            "Starting epoch 28 / 40\n",
            "loss:  0.1517302287220955 train acc:  0.943 test acc:  0.751\n",
            "Starting epoch 29 / 40\n",
            "loss:  0.15100475001335145 train acc:  0.943 test acc:  0.761\n",
            "Starting epoch 30 / 40\n",
            "loss:  0.1451263165846467 train acc:  0.945 test acc:  0.758\n",
            "Starting epoch 31 / 40\n",
            "loss:  0.1433879914432764 train acc:  0.946 test acc:  0.754\n",
            "Starting epoch 32 / 40\n",
            "loss:  0.14237540931999684 train acc:  0.947 test acc:  0.752\n",
            "Starting epoch 33 / 40\n",
            "loss:  0.1381017622500658 train acc:  0.949 test acc:  0.773\n",
            "Starting epoch 34 / 40\n",
            "loss:  0.13693618515878916 train acc:  0.949 test acc:  0.77\n",
            "Starting epoch 35 / 40\n",
            "loss:  0.1350135313272476 train acc:  0.95 test acc:  0.748\n",
            "Starting epoch 36 / 40\n",
            "loss:  0.13155196127295493 train acc:  0.951 test acc:  0.758\n",
            "Starting epoch 37 / 40\n",
            "loss:  0.1322034813761711 train acc:  0.95 test acc:  0.773\n",
            "Starting epoch 38 / 40\n",
            "loss:  0.12993599344789983 train acc:  0.951 test acc:  0.76\n",
            "Starting epoch 39 / 40\n",
            "loss:  0.12804575523734094 train acc:  0.952 test acc:  0.759\n",
            "Starting epoch 40 / 40\n",
            "loss:  0.12551599321514367 train acc:  0.954 test acc:  0.774\n",
            "Checking accuracy on test set\n"
          ],
          "name": "stdout"
        },
        {
          "output_type": "stream",
          "text": [
            "/usr/local/lib/python3.6/dist-packages/ipykernel_launcher.py:37: UserWarning: volatile was removed and now has no effect. Use `with torch.no_grad():` instead.\n"
          ],
          "name": "stderr"
        },
        {
          "output_type": "stream",
          "text": [
            "Got 7740 / 10000 correct (77.40)\n"
          ],
          "name": "stdout"
        }
      ]
    },
    {
      "cell_type": "code",
      "metadata": {
        "colab": {
          "base_uri": "https://localhost:8080/",
          "height": 536
        },
        "id": "YrP8rXqIiZ35",
        "outputId": "52b6a9cc-6aa6-4e30-d1f5-ed45b8690dd9"
      },
      "source": [
        "fig, (ax1, ax2) = plt.subplots(1, 2, figsize=(16,9))\n",
        "ax1.plot(range(len(model_gen_large_loss)), model_gen_large_loss, label = 'model_gen_loss')\n",
        "for phase in ('train', 'test'):\n",
        "    ax2.plot(range(len(model_gen_large_acc[phase])), model_gen_large_acc[phase], label=('model_gen_' + phase + '_acc'))"
      ],
      "execution_count": null,
      "outputs": [
        {
          "output_type": "display_data",
          "data": {
            "image/png": "[encoded data removed]",
            "text/plain": [
              "<Figure size 1152x648 with 2 Axes>"
            ]
          },
          "metadata": {
            "tags": [],
            "needs_background": "light"
          }
        }
      ]
    },
    {
      "cell_type": "code",
      "metadata": {
        "colab": {
          "base_uri": "https://localhost:8080/"
        },
        "id": "M4SY2uSMkk6o",
        "outputId": "e7cce00c-7430-4293-e65b-1a210f44e945"
      },
      "source": [
        "model_gen_medium = copy.deepcopy(base).type(gpu_dtype)\n",
        "\n",
        "loss_fn_gen_medium = nn.CrossEntropyLoss().type(dtype)\n",
        "optimizer_gen_medium = torch.optim.SGD(model_gen_medium.parameters(), 5e-4, 0.9)\n",
        "\n",
        "model_gen_medium.apply(reset)\n",
        "model_gen_medium_loss, model_gen_medium_acc = train(model_gen_medium, loss_fn_gen_medium, optimizer_gen_medium, new_train_loader_medium, num_epochs=40)\n",
        "check_accuracy(model_gen_medium, test_loader)"
      ],
      "execution_count": null,
      "outputs": [
        {
          "output_type": "stream",
          "text": [
            "Starting epoch 1 / 40\n",
            "loss:  1.8472854375839234 train acc:  0.369 test acc:  0.342\n",
            "Starting epoch 2 / 40\n",
            "loss:  0.9193049683173498 train acc:  0.718 test acc:  0.477\n",
            "Starting epoch 3 / 40\n",
            "loss:  0.6072430392106374 train acc:  0.782 test acc:  0.547\n",
            "Starting epoch 4 / 40\n",
            "loss:  0.4916671031713486 train acc:  0.82 test acc:  0.617\n",
            "Starting epoch 5 / 40\n",
            "loss:  0.4313676459590594 train acc:  0.84 test acc:  0.641\n",
            "Starting epoch 6 / 40\n",
            "loss:  0.39241797506809234 train acc:  0.853 test acc:  0.664\n",
            "Starting epoch 7 / 40\n",
            "loss:  0.36308799336353936 train acc:  0.864 test acc:  0.725\n",
            "Starting epoch 8 / 40\n",
            "loss:  0.33970951050519943 train acc:  0.873 test acc:  0.677\n",
            "Starting epoch 9 / 40\n",
            "loss:  0.3229254152874152 train acc:  0.879 test acc:  0.708\n",
            "Starting epoch 10 / 40\n",
            "loss:  0.306238290766875 train acc:  0.886 test acc:  0.728\n",
            "Starting epoch 11 / 40\n",
            "loss:  0.2976591577132543 train acc:  0.889 test acc:  0.728\n",
            "Starting epoch 12 / 40\n",
            "loss:  0.2818985882898172 train acc:  0.895 test acc:  0.738\n",
            "Starting epoch 13 / 40\n",
            "loss:  0.2730701414247354 train acc:  0.898 test acc:  0.731\n",
            "Starting epoch 14 / 40\n",
            "loss:  0.26766701633731527 train acc:  0.899 test acc:  0.747\n",
            "Starting epoch 15 / 40\n",
            "loss:  0.25308501382668813 train acc:  0.906 test acc:  0.764\n",
            "Starting epoch 16 / 40\n",
            "loss:  0.24588228538632392 train acc:  0.908 test acc:  0.753\n",
            "Starting epoch 17 / 40\n",
            "loss:  0.23923711443940798 train acc:  0.91 test acc:  0.769\n",
            "Starting epoch 18 / 40\n",
            "loss:  0.2357094828784466 train acc:  0.912 test acc:  0.758\n",
            "Starting epoch 19 / 40\n",
            "loss:  0.2293901511033376 train acc:  0.915 test acc:  0.74\n",
            "Starting epoch 20 / 40\n",
            "loss:  0.22179421717921893 train acc:  0.917 test acc:  0.746\n",
            "Starting epoch 21 / 40\n",
            "loss:  0.22020781661073366 train acc:  0.917 test acc:  0.749\n",
            "Starting epoch 22 / 40\n",
            "loss:  0.21442058712244033 train acc:  0.92 test acc:  0.714\n",
            "Starting epoch 23 / 40\n",
            "loss:  0.21124441660940646 train acc:  0.921 test acc:  0.737\n",
            "Starting epoch 24 / 40\n",
            "loss:  0.20655962546666462 train acc:  0.922 test acc:  0.755\n",
            "Starting epoch 25 / 40\n",
            "loss:  0.20265163188179333 train acc:  0.924 test acc:  0.751\n",
            "Starting epoch 26 / 40\n",
            "loss:  0.19687058868507545 train acc:  0.927 test acc:  0.761\n",
            "Starting epoch 27 / 40\n",
            "loss:  0.1963987308740616 train acc:  0.926 test acc:  0.757\n",
            "Starting epoch 28 / 40\n",
            "loss:  0.19181683860719204 train acc:  0.929 test acc:  0.753\n",
            "Starting epoch 29 / 40\n",
            "loss:  0.18800520998736223 train acc:  0.93 test acc:  0.752\n",
            "Starting epoch 30 / 40\n",
            "loss:  0.18630330103139084 train acc:  0.93 test acc:  0.766\n",
            "Starting epoch 31 / 40\n",
            "loss:  0.18402219479282697 train acc:  0.931 test acc:  0.753\n",
            "Starting epoch 32 / 40\n",
            "loss:  0.17793554075062276 train acc:  0.933 test acc:  0.763\n",
            "Starting epoch 33 / 40\n",
            "loss:  0.1754242349912723 train acc:  0.934 test acc:  0.77\n",
            "Starting epoch 34 / 40\n",
            "loss:  0.1738663624972105 train acc:  0.935 test acc:  0.777\n",
            "Starting epoch 35 / 40\n",
            "loss:  0.1704460337261359 train acc:  0.936 test acc:  0.754\n",
            "Starting epoch 36 / 40\n",
            "loss:  0.1677553396175305 train acc:  0.938 test acc:  0.774\n",
            "Starting epoch 37 / 40\n",
            "loss:  0.16512450599422057 train acc:  0.938 test acc:  0.748\n",
            "Starting epoch 38 / 40\n",
            "loss:  0.16149104764064154 train acc:  0.94 test acc:  0.777\n",
            "Starting epoch 39 / 40\n",
            "loss:  0.15978808596730232 train acc:  0.94 test acc:  0.784\n",
            "Starting epoch 40 / 40\n",
            "loss:  0.15873376041650772 train acc:  0.941 test acc:  0.784\n",
            "Checking accuracy on test set\n"
          ],
          "name": "stdout"
        },
        {
          "output_type": "stream",
          "text": [
            "/usr/local/lib/python3.6/dist-packages/ipykernel_launcher.py:37: UserWarning: volatile was removed and now has no effect. Use `with torch.no_grad():` instead.\n"
          ],
          "name": "stderr"
        },
        {
          "output_type": "stream",
          "text": [
            "Got 7845 / 10000 correct (78.45)\n"
          ],
          "name": "stdout"
        }
      ]
    },
    {
      "cell_type": "code",
      "metadata": {
        "colab": {
          "base_uri": "https://localhost:8080/",
          "height": 533
        },
        "id": "5dAOLLe0kwbM",
        "outputId": "bfc3f364-388e-4afa-b065-f0bc9bf07fb3"
      },
      "source": [
        "fig, (ax1, ax2) = plt.subplots(1, 2, figsize=(16,9))\n",
        "ax1.plot(range(len(model_gen_medium_loss)), model_gen_medium_loss, label = 'model_gen_loss')\n",
        "for phase in ('train', 'test'):\n",
        "    ax2.plot(range(len(model_gen_medium_acc[phase])), model_gen_medium_acc[phase], label=('model_gen_' + phase + '_acc'))"
      ],
      "execution_count": null,
      "outputs": [
        {
          "output_type": "display_data",
          "data": {
            "image/png": "[encoded data removed]",
            "text/plain": [
              "<Figure size 1152x648 with 2 Axes>"
            ]
          },
          "metadata": {
            "tags": [],
            "needs_background": "light"
          }
        }
      ]
    },
    {
      "cell_type": "code",
      "metadata": {
        "id": "LCffeG6j0Sy2"
      },
      "source": [
        "torch.save(model_normal, '/use_case_model')"
      ],
      "execution_count": null,
      "outputs": []
    }
  ]
}